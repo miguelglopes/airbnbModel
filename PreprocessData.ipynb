{
 "cells": [
  {
   "cell_type": "markdown",
   "metadata": {},
   "source": [
    "# Treat Data"
   ]
  },
  {
   "cell_type": "markdown",
   "metadata": {},
   "source": [
    "## Join DFS\n",
    "Start by joining dfs from all counties together"
   ]
  },
  {
   "cell_type": "code",
   "execution_count": 1,
   "metadata": {},
   "outputs": [
    {
     "name": "stdout",
     "output_type": "stream",
     "text": [
      "<class 'pandas.core.frame.DataFrame'>\n",
      "Int64Index: 10375 entries, 0 to 44\n",
      "Data columns (total 46 columns):\n",
      "accuracyRating           7990 non-null float64\n",
      "allowsChildren           10373 non-null object\n",
      "allowsEvents             10373 non-null object\n",
      "allowsInfants            10373 non-null object\n",
      "allowsPets               10373 non-null object\n",
      "allowsSmoking            10373 non-null object\n",
      "amenities                10375 non-null object\n",
      "bathrooms                10366 non-null float64\n",
      "bedrooms                 10363 non-null float64\n",
      "beds                     10369 non-null float64\n",
      "checkin                  10375 non-null object\n",
      "checkinRating            7986 non-null float64\n",
      "checkout                 10375 non-null object\n",
      "cleanlinessRating        7991 non-null float64\n",
      "communicationRating      7988 non-null float64\n",
      "country                  10373 non-null object\n",
      "hostDate                 10373 non-null object\n",
      "id                       10375 non-null object\n",
      "isBusinessTravel         10373 non-null object\n",
      "isFullyRefundable        10373 non-null object\n",
      "isHotel                  10373 non-null object\n",
      "isInstantBookPossible    10373 non-null object\n",
      "isSuperHost              10373 non-null object\n",
      "isVerified               10373 non-null object\n",
      "languages                10375 non-null object\n",
      "lastUpdate               10362 non-null object\n",
      "latitude                 10373 non-null float64\n",
      "location                 10373 non-null object\n",
      "locationRating           7985 non-null float64\n",
      "longitude                10373 non-null float64\n",
      "minNights                10373 non-null float64\n",
      "monthlyPriceFactor       10373 non-null float64\n",
      "name                     10373 non-null object\n",
      "personCapacity           10373 non-null float64\n",
      "pictureCount             10373 non-null float64\n",
      "ratePerNight             10373 non-null float64\n",
      "rating                   6598 non-null float64\n",
      "ratingC                  7976 non-null float64\n",
      "responseRate             9278 non-null object\n",
      "responseTime             9278 non-null object\n",
      "reviews                  10375 non-null object\n",
      "reviewsCount             10373 non-null float64\n",
      "roomType                 10373 non-null object\n",
      "serviceFee               10323 non-null float64\n",
      "totalPrice               10373 non-null float64\n",
      "url                      10373 non-null object\n",
      "dtypes: float64(20), object(26)\n",
      "memory usage: 2.7+ MB\n"
     ]
    }
   ],
   "source": [
    "import pandas\n",
    "counties = [\"Alenquer\", \"Amadora\", \"Arruda dos Vinhos\", \"Azambuja\", \"Cadaval\", \"Cascais\", \"Lisboa\", \"Loures\", \"Lourinhã\", \"Mafra\", \"Odivelas\", \"Oeiras\", \"Sintra\", \"Sobral de Monte Agraço\", \"Torres Vedras\", \"Vila Franca de Xira\"]\n",
    "dfs = []\n",
    "for county in counties:\n",
    "    df = pandas.read_pickle(\"Data/\" + county + \".pkl\")\n",
    "    dfs.append(df)\n",
    "    \n",
    "df = pandas.concat(dfs)\n",
    "\n",
    "df.info()"
   ]
  },
  {
   "cell_type": "markdown",
   "metadata": {},
   "source": [
    "## Check Room Uniqueness\n",
    "\n",
    "when gathering the data, we searched Airbnb by county. The problem is that many of the rooms overlap when searching on Airbnb, which created an excessive amount of duplicated rooms"
   ]
  },
  {
   "cell_type": "code",
   "execution_count": 2,
   "metadata": {},
   "outputs": [
    {
     "name": "stdout",
     "output_type": "stream",
     "text": [
      "total rooms before cleaning: 10375\n",
      "total rooms after cleaning: 1996\n"
     ]
    }
   ],
   "source": [
    "#delete duplicated rooms\n",
    "print(\"total rooms before cleaning: \" + str(len(df)))\n",
    "f = df.sort_values(\"id\", ascending=True)\n",
    "df = df.drop_duplicates(subset=\"id\", keep=\"first\")\n",
    "print(\"total rooms after cleaning: \" + str(len(df)))"
   ]
  },
  {
   "cell_type": "markdown",
   "metadata": {},
   "source": [
    "## Delete NAN or NULL value"
   ]
  },
  {
   "cell_type": "code",
   "execution_count": 3,
   "metadata": {},
   "outputs": [
    {
     "name": "stdout",
     "output_type": "stream",
     "text": [
      "accuracyRating           458\n",
      "allowsChildren             1\n",
      "allowsEvents               1\n",
      "allowsInfants              1\n",
      "allowsPets                 1\n",
      "allowsSmoking              1\n",
      "amenities                  0\n",
      "bathrooms                  5\n",
      "bedrooms                   3\n",
      "beds                       3\n",
      "checkin                    0\n",
      "checkinRating            460\n",
      "checkout                   0\n",
      "cleanlinessRating        457\n",
      "communicationRating      459\n",
      "country                    1\n",
      "hostDate                   1\n",
      "id                         0\n",
      "isBusinessTravel           1\n",
      "isFullyRefundable          1\n",
      "isHotel                    1\n",
      "isInstantBookPossible      1\n",
      "isSuperHost                1\n",
      "isVerified                 1\n",
      "languages                  0\n",
      "lastUpdate                 7\n",
      "latitude                   1\n",
      "location                   1\n",
      "locationRating           461\n",
      "longitude                  1\n",
      "minNights                  1\n",
      "monthlyPriceFactor         1\n",
      "name                       1\n",
      "personCapacity             1\n",
      "pictureCount               1\n",
      "ratePerNight               1\n",
      "rating                   719\n",
      "ratingC                  458\n",
      "responseRate             214\n",
      "responseTime             214\n",
      "reviews                    0\n",
      "reviewsCount               1\n",
      "roomType                   1\n",
      "serviceFee                 8\n",
      "totalPrice                 1\n",
      "url                        1\n",
      "dtype: int64\n"
     ]
    }
   ],
   "source": [
    "#first check the variables with the most nulls\n",
    "print(df.isnull().sum(axis=0))"
   ]
  },
  {
   "cell_type": "markdown",
   "metadata": {},
   "source": [
    "after analyzing the dataframe, we found that more than 99% of the missing data was in the rating parameters, which we would not want to manipulate by any means, fearing that it could compromise the results"
   ]
  },
  {
   "cell_type": "code",
   "execution_count": 4,
   "metadata": {},
   "outputs": [
    {
     "name": "stdout",
     "output_type": "stream",
     "text": [
      "total rooms before cleaning: 1996\n",
      "total rooms after cleaning: 1216\n"
     ]
    }
   ],
   "source": [
    "print(\"total rooms before cleaning: \" + str(len(df)))\n",
    "#df = df.dropna(subset=[\"rating\", \"bedrooms\"])\n",
    "df = df.dropna()\n",
    "print(\"total rooms after cleaning: \" + str(len(df)))"
   ]
  },
  {
   "cell_type": "markdown",
   "metadata": {},
   "source": [
    "### 5. Deal with locations\n",
    "Locations are difficult to deal with.\n",
    "From the data gathered from Airbnb, we had the location string of the room, which is a manual input of the Airbnb host, and, therefore, extremely unreliable. Our goal was to transform this string to one of the Lisbon counties and, by doing this, get a reliable categorical parameter. In order to do so, we had to standardize the input string"
   ]
  },
  {
   "cell_type": "code",
   "execution_count": 5,
   "metadata": {},
   "outputs": [
    {
     "name": "stdout",
     "output_type": "stream",
     "text": [
      "151\n"
     ]
    }
   ],
   "source": [
    "#How many unique location strings?\n",
    "print(len(df[\"location\"].unique()))"
   ]
  },
  {
   "cell_type": "code",
   "execution_count": 6,
   "metadata": {},
   "outputs": [
    {
     "name": "stdout",
     "output_type": "stream",
     "text": [
      "['Oeiras, Lisboa, Portugal' 'Oeiras, Lisbon, Portugal'\n",
      " 'LISBOA, OEIRAS, Portugal']\n",
      "['Cascais, Lisboa, Portugal' 'Cascais, Lisbon, Portugal'\n",
      " 'Estoril, Cascais, Portugal' 'Cascais, Lisbon District, Portugal'\n",
      " 'Cascais, Portugal' 'Cascais, Costa da Guia, Portugal'\n",
      " 'Costa da Guia - Torre, Cascais, Portugal'\n",
      " 'São João do Estoril, Cascais, Portugal']\n"
     ]
    }
   ],
   "source": [
    "import re\n",
    "#How many different locations with word \"oeiras\"? And \"cascais\"?\n",
    "print(df[df['location'].str.match('.*oeiras.*', flags=re.IGNORECASE)][\"location\"].unique())\n",
    "print(df[df['location'].str.match('.*cascais.*', flags=re.IGNORECASE)][\"location\"].unique())"
   ]
  },
  {
   "cell_type": "markdown",
   "metadata": {},
   "source": [
    "As you can see, this is a problem. How can we uniquely identify \"Oeiras, Lisbon\" and \"LISBOA, OEIRAS\" to be the same?\n",
    "We decided to use the power of google maps api to do this. If we search these two strings, it will give back Oeiras in both, for sure."
   ]
  },
  {
   "cell_type": "code",
   "execution_count": 7,
   "metadata": {},
   "outputs": [
    {
     "name": "stdout",
     "output_type": "stream",
     "text": [
      "total rooms before cleaning: 1216\n",
      "total rooms after cleaning: 1139\n"
     ]
    }
   ],
   "source": [
    "#get unique locations case insensitive and search google for only unique. This saves a lot of requests and time.\n",
    "from Locations import Location\n",
    "import json\n",
    "\n",
    "uniqueLocs = df[\"location\"].str.lower().unique()\n",
    "\n",
    "#read from file\n",
    "with open(\"data\\\\locsDic.json\", 'r', encoding=\"utf-8\") as f:\n",
    "    locsDic = json.load(f)\n",
    "        \n",
    "for loc in uniqueLocs:\n",
    "    if loc not in locsDic and loc is not None:\n",
    "        print(loc)\n",
    "        sr = Location(loc).county\n",
    "        locsDic[loc] = sr #this still takes some time!\n",
    "        if sr != None:\n",
    "            locsDic[sr] = sr #this is just so that if we run twice, we will get the same results\n",
    "\n",
    "# save so we dont have to request all next time\n",
    "with open(\"data\\\\locsDic.json\", 'w', encoding=\"utf-8\") as f:\n",
    "    json.dump(locsDic, f, ensure_ascii=False)\n",
    "    \n",
    "df[\"location\"] = df[\"location\"].apply(lambda x : locsDic[x.lower()]) #replace each location by its corresponding google value in locsDic\n",
    "\n",
    "#clean none locations\n",
    "print(\"total rooms before cleaning: \" + str(len(df)))\n",
    "#df = df.dropna(subset=[\"rating\", \"bedrooms\"])\n",
    "df = df.dropna()\n",
    "print(\"total rooms after cleaning: \" + str(len(df)))"
   ]
  },
  {
   "cell_type": "markdown",
   "metadata": {},
   "source": [
    "Now we only have 1 Oeiras and 1 Cascais, as we wanted"
   ]
  },
  {
   "cell_type": "code",
   "execution_count": 8,
   "metadata": {},
   "outputs": [
    {
     "name": "stdout",
     "output_type": "stream",
     "text": [
      "['oeiras']\n",
      "['cascais']\n"
     ]
    }
   ],
   "source": [
    "print(df[df['location'].str.match('.*oeiras.*', flags=re.IGNORECASE)][\"location\"].unique())\n",
    "print(df[df['location'].str.match('.*cascais.*', flags=re.IGNORECASE)][\"location\"].unique())"
   ]
  },
  {
   "cell_type": "markdown",
   "metadata": {},
   "source": [
    "We are left with only 16 locations, which are the counties"
   ]
  },
  {
   "cell_type": "code",
   "execution_count": 9,
   "metadata": {},
   "outputs": [
    {
     "data": {
      "text/plain": [
       "16"
      ]
     },
     "execution_count": 9,
     "metadata": {},
     "output_type": "execute_result"
    }
   ],
   "source": [
    "len(df[\"location\"].unique())"
   ]
  },
  {
   "cell_type": "markdown",
   "metadata": {},
   "source": [
    "Still regarding locations, we also added a new column to the dataframe called distToCenter, which was computed by finding the distance between the room coordinates (gotten from Airbnb) and the center of Lisbon, using the Haversine formula. This method is a static method of the class Location."
   ]
  },
  {
   "cell_type": "code",
   "execution_count": 10,
   "metadata": {},
   "outputs": [
    {
     "data": {
      "text/html": [
       "<div>\n",
       "<style scoped>\n",
       "    .dataframe tbody tr th:only-of-type {\n",
       "        vertical-align: middle;\n",
       "    }\n",
       "\n",
       "    .dataframe tbody tr th {\n",
       "        vertical-align: top;\n",
       "    }\n",
       "\n",
       "    .dataframe thead th {\n",
       "        text-align: right;\n",
       "    }\n",
       "</style>\n",
       "<table border=\"1\" class=\"dataframe\">\n",
       "  <thead>\n",
       "    <tr style=\"text-align: right;\">\n",
       "      <th></th>\n",
       "      <th>location</th>\n",
       "      <th>latitude</th>\n",
       "      <th>longitude</th>\n",
       "      <th>distToCenter</th>\n",
       "    </tr>\n",
       "  </thead>\n",
       "  <tbody>\n",
       "    <tr>\n",
       "      <th>1</th>\n",
       "      <td>lisboa</td>\n",
       "      <td>38.74498</td>\n",
       "      <td>-9.20654</td>\n",
       "      <td>6.681428</td>\n",
       "    </tr>\n",
       "    <tr>\n",
       "      <th>7</th>\n",
       "      <td>lisboa</td>\n",
       "      <td>38.72649</td>\n",
       "      <td>-9.11715</td>\n",
       "      <td>2.886246</td>\n",
       "    </tr>\n",
       "    <tr>\n",
       "      <th>8</th>\n",
       "      <td>lisboa</td>\n",
       "      <td>38.75438</td>\n",
       "      <td>-9.18236</td>\n",
       "      <td>5.929691</td>\n",
       "    </tr>\n",
       "    <tr>\n",
       "      <th>10</th>\n",
       "      <td>lisboa</td>\n",
       "      <td>38.70450</td>\n",
       "      <td>-9.16794</td>\n",
       "      <td>2.232353</td>\n",
       "    </tr>\n",
       "    <tr>\n",
       "      <th>12</th>\n",
       "      <td>lisboa</td>\n",
       "      <td>38.73787</td>\n",
       "      <td>-9.16691</td>\n",
       "      <td>3.657980</td>\n",
       "    </tr>\n",
       "  </tbody>\n",
       "</table>\n",
       "</div>"
      ],
      "text/plain": [
       "   location  latitude  longitude  distToCenter\n",
       "1    lisboa  38.74498   -9.20654      6.681428\n",
       "7    lisboa  38.72649   -9.11715      2.886246\n",
       "8    lisboa  38.75438   -9.18236      5.929691\n",
       "10   lisboa  38.70450   -9.16794      2.232353\n",
       "12   lisboa  38.73787   -9.16691      3.657980"
      ]
     },
     "execution_count": 10,
     "metadata": {},
     "output_type": "execute_result"
    }
   ],
   "source": [
    "#now we need to apply distance function and create a new column\n",
    "def distance(row):\n",
    "    lat1 = row[\"latitude\"]\n",
    "    long1 = row[\"longitude\"]\n",
    "    lat2 = 38.710555\n",
    "    long2 = -9.143411\n",
    "    distance = Location.getDistance(lat1, long1, lat2, long2)\n",
    "    return distance\n",
    "\n",
    "#TODO -> Something bad is happening. When a room is duplicated, the county they belong to is difficult to assert.\n",
    "#Instead of giving the distance to all county centers, we'll just do to the center of Lisbon.\n",
    "df[\"distToCenter\"] = df.apply(lambda row : distance(row), axis = 1)\n",
    "\n",
    "#how it works for 5 rooms in lisbon:\n",
    "df[[\"location\", \"latitude\", \"longitude\", \"distToCenter\"]].loc[df[\"location\"]==\"lisboa\"].head(5)"
   ]
  },
  {
   "cell_type": "markdown",
   "metadata": {},
   "source": [
    "After computing the distToCenter, we found that some rooms had a very unrealistic value for its county. This means that either the county classification was not well performed, or the coordinates were wrong from the start. Either way, we decided to define a maximum distance to the center of Lisbon, by county, and remove all the rooms that did not respect that limit. For instance, there were 2 rooms in the county of Lisbon that were more than 40km away from the center. This is obviously impossible."
   ]
  },
  {
   "cell_type": "code",
   "execution_count": 11,
   "metadata": {},
   "outputs": [
    {
     "name": "stdout",
     "output_type": "stream",
     "text": [
      "initial (1139, 47)\n",
      "alenquer (1139, 47)\n",
      "amadora (1137, 47)\n",
      "vila-franca-de-xira (1137, 47)\n",
      "arruda-dos-vinhos (1137, 47)\n",
      "azambuja (1137, 47)\n",
      "cadaval (1137, 47)\n",
      "cascais (1136, 47)\n",
      "lisboa (1134, 47)\n",
      "loures (1134, 47)\n",
      "lourinha (1134, 47)\n",
      "mafra (1131, 47)\n",
      "odivelas (1131, 47)\n",
      "oeiras (1128, 47)\n",
      "sintra (1127, 47)\n",
      "sobral-de-monte-agraco (1127, 47)\n",
      "torres-vedras (1127, 47)\n"
     ]
    }
   ],
   "source": [
    "#outliers do distToCenter por municipio\n",
    "\n",
    "#max possible distance\n",
    "maxDist = {\"alenquer\":60, \"amadora\":20, \"vila-franca-de-xira\":50, \"arruda-dos-vinhos\":50, \"azambuja\":65, \"cadaval\":80,\n",
    "           \"cascais\":40, \"lisboa\":15, \"loures\":25, \"lourinha\":80, \"mafra\":45, \"odivelas\":25, \"oeiras\":30, \"sintra\":35,\n",
    "           \"sobral-de-monte-agraco\":50, \"torres-vedras\": 60}\n",
    "\n",
    "print(\"initial\" + \" \" + str(df.shape))\n",
    "\n",
    "for county in maxDist:\n",
    "    df = df.loc[~((df[\"location\"] == county) & (df[\"distToCenter\"] > maxDist[county]))]\n",
    "    print(county + \" \" + str(df.shape) )\n",
    "\n"
   ]
  },
  {
   "cell_type": "markdown",
   "metadata": {},
   "source": [
    "### More data transformation\n",
    "amenities, languages and dates"
   ]
  },
  {
   "cell_type": "code",
   "execution_count": 12,
   "metadata": {},
   "outputs": [
    {
     "name": "stdout",
     "output_type": "stream",
     "text": [
      "total rooms before cleaning: 1127\n",
      "total rooms after cleaning: 1123\n",
      "<class 'pandas.core.frame.DataFrame'>\n",
      "Index: 1123 entries, 21888626 to 3671486\n",
      "Data columns (total 40 columns):\n",
      "accuracyRating           1123 non-null float64\n",
      "allowsChildren           1123 non-null object\n",
      "allowsEvents             1123 non-null object\n",
      "allowsInfants            1123 non-null object\n",
      "allowsPets               1123 non-null object\n",
      "allowsSmoking            1123 non-null object\n",
      "bathrooms                1123 non-null float64\n",
      "bedrooms                 1123 non-null float64\n",
      "beds                     1123 non-null float64\n",
      "checkinRating            1123 non-null float64\n",
      "cleanlinessRating        1123 non-null float64\n",
      "communicationRating      1123 non-null float64\n",
      "isBusinessTravel         1123 non-null object\n",
      "isFullyRefundable        1123 non-null object\n",
      "isHotel                  1123 non-null object\n",
      "isInstantBookPossible    1123 non-null object\n",
      "isSuperHost              1123 non-null object\n",
      "isVerified               1123 non-null object\n",
      "location                 1123 non-null object\n",
      "locationRating           1123 non-null float64\n",
      "minNights                1123 non-null float64\n",
      "monthlyPriceFactor       1123 non-null float64\n",
      "personCapacity           1123 non-null float64\n",
      "pictureCount             1123 non-null float64\n",
      "ratePerNight             1123 non-null float64\n",
      "rating                   1123 non-null float64\n",
      "ratingC                  1123 non-null float64\n",
      "responseRate             1123 non-null object\n",
      "responseTime             1123 non-null object\n",
      "reviews                  1123 non-null object\n",
      "reviewsCount             1123 non-null float64\n",
      "roomType                 1123 non-null object\n",
      "serviceFee               1123 non-null float64\n",
      "totalPrice               1123 non-null float64\n",
      "url                      1123 non-null object\n",
      "distToCenter             1123 non-null float64\n",
      "monthsSinceCreation      1123 non-null float64\n",
      "daysSinceUpdate          1123 non-null int64\n",
      "totalAmenities           1123 non-null int64\n",
      "totalLanguages           1123 non-null int64\n",
      "dtypes: float64(20), int64(3), object(17)\n",
      "memory usage: 280.8+ KB\n"
     ]
    }
   ],
   "source": [
    "import datetime as dt\n",
    "\n",
    "#dates to numeric values\n",
    "#we decided to convert the two datetimes we had, last update of the room and date of creation of host account,\n",
    "#to numerical values, by subtracting it from today’s date\n",
    "df[\"lastUpdate\"] =  pandas.to_datetime(df[\"lastUpdate\"], format=\"%Y-%m-%d\")\n",
    "df[\"hostDate\"] =  pandas.to_datetime(df[\"hostDate\"], format=\"%Y-%m-%d\")\n",
    "df[\"monthsSinceCreation\"] = -(df[\"hostDate\"] - dt.datetime.now()).dt.days/30\n",
    "df[\"daysSinceUpdate\"] = -(df[\"lastUpdate\"] - dt.datetime.now()).dt.days\n",
    "del df[\"hostDate\"]\n",
    "del df[\"lastUpdate\"]\n",
    "\n",
    "#lists to count\n",
    "#for the two lists we had, amenities and languages, we decided to simplify and simply count the number for each one, by room\n",
    "df[\"totalAmenities\"] = df[\"amenities\"].apply(lambda row : len(row))\n",
    "df[\"totalLanguages\"]=df[\"languages\"].apply(lambda row : len(row))\n",
    "del df[\"amenities\"]\n",
    "del df[\"languages\"]\n",
    "\n",
    "#remove rooms with \"no quality\"\n",
    "print(\"total rooms before cleaning: \" + str(len(df)))\n",
    "#with few reviews\n",
    "df=df[df['reviewsCount']>=3]\n",
    "#with no beds\n",
    "df = df[df[\"beds\"] > 0]\n",
    "#with no people\n",
    "df = df[df[\"personCapacity\"] > 0]\n",
    "#with no pictures\n",
    "df = df[df[\"pictureCount\"] > 0]\n",
    "print(\"total rooms after cleaning: \" + str(len(df)))\n",
    "\n",
    "#delete other parameters not needed\n",
    "del df[\"name\"]\n",
    "del df[\"checkin\"]\n",
    "del df[\"checkout\"]\n",
    "del df[\"country\"]\n",
    "del df[\"latitude\"]\n",
    "del df[\"longitude\"]\n",
    "\n",
    "# set index\n",
    "df = df.set_index(\"id\")\n",
    "\n",
    "df.info()"
   ]
  },
  {
   "cell_type": "markdown",
   "metadata": {},
   "source": [
    "### DATA TYPES\n",
    "Assure all parameters have the right type"
   ]
  },
  {
   "cell_type": "code",
   "execution_count": 13,
   "metadata": {},
   "outputs": [
    {
     "name": "stdout",
     "output_type": "stream",
     "text": [
      "<class 'pandas.core.frame.DataFrame'>\n",
      "Index: 1123 entries, 21888626 to 3671486\n",
      "Data columns (total 40 columns):\n",
      "accuracyRating           1123 non-null float64\n",
      "allowsChildren           1123 non-null uint8\n",
      "allowsEvents             1123 non-null uint8\n",
      "allowsInfants            1123 non-null uint8\n",
      "allowsPets               1123 non-null uint8\n",
      "allowsSmoking            1123 non-null uint8\n",
      "bathrooms                1123 non-null float64\n",
      "bedrooms                 1123 non-null float64\n",
      "beds                     1123 non-null float64\n",
      "checkinRating            1123 non-null float64\n",
      "cleanlinessRating        1123 non-null float64\n",
      "communicationRating      1123 non-null float64\n",
      "isBusinessTravel         1123 non-null uint8\n",
      "isFullyRefundable        1123 non-null uint8\n",
      "isHotel                  1123 non-null uint8\n",
      "isInstantBookPossible    1123 non-null uint8\n",
      "isSuperHost              1123 non-null uint8\n",
      "isVerified               1123 non-null uint8\n",
      "location                 1123 non-null category\n",
      "locationRating           1123 non-null float64\n",
      "minNights                1123 non-null int32\n",
      "monthlyPriceFactor       1123 non-null float64\n",
      "personCapacity           1123 non-null int32\n",
      "pictureCount             1123 non-null int32\n",
      "ratePerNight             1123 non-null float64\n",
      "rating                   1123 non-null category\n",
      "ratingC                  1123 non-null float64\n",
      "responseRate             1123 non-null float64\n",
      "responseTime             1123 non-null category\n",
      "reviews                  1123 non-null object\n",
      "reviewsCount             1123 non-null int32\n",
      "roomType                 1123 non-null category\n",
      "serviceFee               1123 non-null float64\n",
      "totalPrice               1123 non-null float64\n",
      "url                      1123 non-null object\n",
      "distToCenter             1123 non-null float64\n",
      "monthsSinceCreation      1123 non-null float64\n",
      "daysSinceUpdate          1123 non-null float64\n",
      "totalAmenities           1123 non-null int32\n",
      "totalLanguages           1123 non-null int32\n",
      "dtypes: category(4), float64(17), int32(6), object(2), uint8(11)\n",
      "memory usage: 205.8+ KB\n"
     ]
    }
   ],
   "source": [
    "#set type of all columns\n",
    "typeObject={\n",
    "    \"accuracyRating\": float, \n",
    "    \"allowsChildren\": \"uint8\", \n",
    "    \"allowsEvents\": \"uint8\", \n",
    "    \"allowsInfants\": \"uint8\", \n",
    "    \"allowsPets\": \"uint8\", \n",
    "    \"allowsSmoking\": \"uint8\", \n",
    "    \"bathrooms\": float, \n",
    "    \"bedrooms\": float, \n",
    "    \"beds\": float, \n",
    "    \"checkinRating\": float, \n",
    "    \"cleanlinessRating\": float, \n",
    "    \"communicationRating\": float, \n",
    "    \"isBusinessTravel\": \"uint8\", \n",
    "    \"isFullyRefundable\": \"uint8\", \n",
    "    \"isHotel\": \"uint8\", \n",
    "    \"isInstantBookPossible\": \"uint8\", \n",
    "    \"isSuperHost\": \"uint8\", \n",
    "    \"isVerified\": \"uint8\", \n",
    "    \"location\" : \"category\",\n",
    "    \"locationRating\": float, \n",
    "    \"minNights\": int, \n",
    "    \"monthlyPriceFactor\": float, \n",
    "    \"personCapacity\": int, \n",
    "    \"pictureCount\": int, \n",
    "    \"ratePerNight\": float, \n",
    "    \"rating\": \"category\", \n",
    "    \"ratingC\": float, \n",
    "    \"responseRate\": float, \n",
    "    \"reviews\" : object,\n",
    "    \"reviewsCount\" : int,\n",
    "    \"roomType\" : \"category\",\n",
    "    \"serviceFee\": float, \n",
    "    \"totalPrice\": float, \n",
    "    \"url\": str,\n",
    "    \"distToCenter\" : float,\n",
    "    \"monthsSinceCreation\" : float,\n",
    "    \"daysSinceUpdate\" : float,\n",
    "    \"totalLanguages\" : int,\n",
    "    \"totalAmenities\" : int\n",
    "} \n",
    "\n",
    "#it's ordered, we need to specify order manually\n",
    "rtCategory=pandas.api.types.CategoricalDtype( categories = [\"within an hour\", \"within a few hours\", \"within a day\", \"a few days or more\"], ordered = True)\n",
    "df[\"responseTime\"] = df[\"responseTime\"].astype(rtCategory)\n",
    "\n",
    "df = df.astype(typeObject)\n",
    "df.info()"
   ]
  },
  {
   "cell_type": "code",
   "execution_count": 14,
   "metadata": {},
   "outputs": [
    {
     "data": {
      "text/plain": [
       "1123"
      ]
     },
     "execution_count": 14,
     "metadata": {},
     "output_type": "execute_result"
    }
   ],
   "source": [
    "df.to_pickle(\"data\\\\final2.pkl\")\n",
    "len(df)"
   ]
  },
  {
   "cell_type": "code",
   "execution_count": 15,
   "metadata": {},
   "outputs": [
    {
     "data": {
      "text/plain": [
       "<matplotlib.axes._subplots.AxesSubplot at 0x179a82d0>"
      ]
     },
     "execution_count": 15,
     "metadata": {},
     "output_type": "execute_result"
    }
   ],
   "source": [
    "df['roomType'].value_counts().plot(kind='bar')"
   ]
  },
  {
   "cell_type": "code",
   "execution_count": 16,
   "metadata": {},
   "outputs": [
    {
     "data": {
      "text/plain": [
       "<matplotlib.axes._subplots.AxesSubplot at 0x18b5a8f0>"
      ]
     },
     "execution_count": 16,
     "metadata": {},
     "output_type": "execute_result"
    },
    {
     "data": {
      "image/png": "[encoded data removed]",
      "text/plain": [
       "<Figure size 432x288 with 1 Axes>"
      ]
     },
     "metadata": {
      "needs_background": "light"
     },
     "output_type": "display_data"
    }
   ],
   "source": [
    "df['location'].value_counts().plot(kind='bar')"
   ]
  },
  {
   "cell_type": "code",
   "execution_count": 17,
   "metadata": {},
   "outputs": [
    {
     "data": {
      "text/plain": [
       "<matplotlib.axes._subplots.AxesSubplot at 0x18bbdfd0>"
      ]
     },
     "execution_count": 17,
     "metadata": {},
     "output_type": "execute_result"
    },
    {
     "data": {
      "image/png": "[encoded data removed]",
      "text/plain": [
       "<Figure size 432x288 with 1 Axes>"
      ]
     },
     "metadata": {
      "needs_background": "light"
     },
     "output_type": "display_data"
    }
   ],
   "source": [
    "df['responseTime'].value_counts().plot(kind='bar')"
   ]
  },
  {
   "cell_type": "code",
   "execution_count": 18,
   "metadata": {},
   "outputs": [
    {
     "data": {
      "text/plain": [
       "<matplotlib.axes._subplots.AxesSubplot at 0x18c06bd0>"
      ]
     },
     "execution_count": 18,
     "metadata": {},
     "output_type": "execute_result"
    },
    {
     "data": {
      "image/png": "[encoded data removed]",
      "text/plain": [
       "<Figure size 432x288 with 1 Axes>"
      ]
     },
     "metadata": {
      "needs_background": "light"
     },
     "output_type": "display_data"
    }
   ],
   "source": [
    "newdf=df[df['reviewsCount']<=50]\n",
    "newdf[\"reviewsCount\"].value_counts().plot(kind='bar')"
   ]
  }
 ],
 "metadata": {
  "kernelspec": {
   "display_name": "Python 3",
   "language": "python",
   "name": "python3"
  },
  "language_info": {
   "codemirror_mode": {
    "name": "ipython",
    "version": 3
   },
   "file_extension": ".py",
   "mimetype": "text/x-python",
   "name": "python",
   "nbconvert_exporter": "python",
   "pygments_lexer": "ipython3",
   "version": "3.7.3"
  }
 },
 "nbformat": 4,
 "nbformat_minor": 2
}
